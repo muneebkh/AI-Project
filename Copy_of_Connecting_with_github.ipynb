{
  "nbformat": 4,
  "nbformat_minor": 0,
  "metadata": {
    "colab": {
      "provenance": [],
      "authorship_tag": "ABX9TyPf5hOZyuRu0h70BndKiy5J",
      "include_colab_link": true
    },
    "kernelspec": {
      "name": "python3",
      "display_name": "Python 3"
    },
    "language_info": {
      "name": "python"
    }
  },
  "cells": [
    {
      "cell_type": "markdown",
      "metadata": {
        "id": "view-in-github",
        "colab_type": "text"
      },
      "source": [
        "<a href=\"https://colab.research.google.com/github/muneebkh/AI-Project/blob/main/Copy_of_Connecting_with_github.ipynb\" target=\"_parent\"><img src=\"https://colab.research.google.com/assets/colab-badge.svg\" alt=\"Open In Colab\"/></a>"
      ]
    },
    {
      "cell_type": "code",
      "execution_count": null,
      "metadata": {
        "id": "Zm8mzHdPqKCt",
        "outputId": "3dcc4a0e-9cd9-428d-8adc-d38960d09994",
        "colab": {
          "base_uri": "https://localhost:8080/"
        }
      },
      "outputs": [
        {
          "output_type": "stream",
          "name": "stdout",
          "text": [
            "Welcome team to our AI Project \n"
          ]
        }
      ],
      "source": [
        "print(\"Welcome team to our AI Project \")\n"
      ]
    },
    {
      "cell_type": "code",
      "source": [
        "print(\"Checking connectivity\")\n"
      ],
      "metadata": {
        "colab": {
          "base_uri": "https://localhost:8080/"
        },
        "id": "3MJJ9WCAZY22",
        "outputId": "3624a879-30e5-46f2-8d1c-eb97c5a928ee"
      },
      "execution_count": 3,
      "outputs": [
        {
          "output_type": "stream",
          "name": "stdout",
          "text": [
            "Checking connectivity\n"
          ]
        }
      ]
    },
    {
      "cell_type": "code",
      "source": [
        "print(\"New Commit Check\")"
      ],
      "metadata": {
        "colab": {
          "base_uri": "https://localhost:8080/"
        },
        "id": "bdPCcldhZd97",
        "outputId": "a9b3bf26-cc39-4958-8a7c-77245350b04d"
      },
      "execution_count": 4,
      "outputs": [
        {
          "output_type": "stream",
          "name": "stdout",
          "text": [
            "New Commit Check\n"
          ]
        }
      ]
    },
    {
      "cell_type": "code",
      "source": [],
      "metadata": {
        "id": "jLS-7-GjaZTM"
      },
      "execution_count": null,
      "outputs": []
    }
  ]
}