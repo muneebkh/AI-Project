{
  "nbformat": 4,
  "nbformat_minor": 0,
  "metadata": {
    "colab": {
      "provenance": [],
      "authorship_tag": "ABX9TyOo0CCFq3yWsUbfm71D3WLr",
      "include_colab_link": true
    },
    "kernelspec": {
      "name": "python3",
      "display_name": "Python 3"
    },
    "language_info": {
      "name": "python"
    }
  },
  "cells": [
    {
      "cell_type": "markdown",
      "metadata": {
        "id": "view-in-github",
        "colab_type": "text"
      },
      "source": [
        "<a href=\"https://colab.research.google.com/github/muneebkh/AI-Project/blob/main/Connecting_with_github.ipynb\" target=\"_parent\"><img src=\"https://colab.research.google.com/assets/colab-badge.svg\" alt=\"Open In Colab\"/></a>"
      ]
    },
    {
      "cell_type": "code",
      "execution_count": null,
      "metadata": {
        "id": "Zm8mzHdPqKCt",
        "colab": {
          "base_uri": "https://localhost:8080/"
        },
        "outputId": "3dcc4a0e-9cd9-428d-8adc-d38960d09994"
      },
      "outputs": [
        {
          "output_type": "stream",
          "name": "stdout",
          "text": [
            "Welcome team to our AI Project \n"
          ]
        }
      ],
      "source": [
        "print(\"Welcome team to our AI Project \")\n"
      ]
    },
    {
      "cell_type": "markdown",
      "source": [
        "Lets check changes in GitHub"
      ],
      "metadata": {
        "id": "7Nap3t_Lq_NH"
      }
    },
    {
      "cell_type": "code",
      "source": [
        "print(\"Checking with New Changes\")"
      ],
      "metadata": {
        "id": "qUF6ccE9bB4g",
        "outputId": "dec022b9-162f-414e-f2b4-0366092d4d54",
        "colab": {
          "base_uri": "https://localhost:8080/"
        }
      },
      "execution_count": 1,
      "outputs": [
        {
          "output_type": "stream",
          "name": "stdout",
          "text": [
            "Checking with New Changes\n"
          ]
        }
      ]
    },
    {
      "cell_type": "code",
      "source": [],
      "metadata": {
        "id": "QA_PYp0ibKZy"
      },
      "execution_count": null,
      "outputs": []
    }
  ]
}