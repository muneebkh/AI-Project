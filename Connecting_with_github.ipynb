{
  "nbformat": 4,
  "nbformat_minor": 0,
  "metadata": {
    "colab": {
      "provenance": [],
      "authorship_tag": "ABX9TyPdj1y2eMPqgo1tCt0EdQOZ",
      "include_colab_link": true
    },
    "kernelspec": {
      "name": "python3",
      "display_name": "Python 3"
    },
    "language_info": {
      "name": "python"
    }
  },
  "cells": [
    {
      "cell_type": "markdown",
      "metadata": {
        "id": "view-in-github",
        "colab_type": "text"
      },
      "source": [
        "<a href=\"https://colab.research.google.com/github/muneebkh/AI-Project/blob/main/Connecting_with_github.ipynb\" target=\"_parent\"><img src=\"https://colab.research.google.com/assets/colab-badge.svg\" alt=\"Open In Colab\"/></a>"
      ]
    },
    {
      "cell_type": "code",
      "execution_count": 1,
      "metadata": {
        "id": "Zm8mzHdPqKCt",
        "colab": {
          "base_uri": "https://localhost:8080/"
        },
        "outputId": "3dcc4a0e-9cd9-428d-8adc-d38960d09994"
      },
      "outputs": [
        {
          "output_type": "stream",
          "name": "stdout",
          "text": [
            "Welcome team to our AI Project \n"
          ]
        }
      ],
      "source": [
        "print(\"Welcome team to our AI Project \")\n"
      ]
    },
    {
      "cell_type": "markdown",
      "source": [
        "Lets check changes in GitHub"
      ],
      "metadata": {
        "id": "7Nap3t_Lq_NH"
      }
    }
  ]
}